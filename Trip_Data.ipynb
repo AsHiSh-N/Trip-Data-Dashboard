{
 "cells": [
  {
   "cell_type": "code",
   "execution_count": 1,
   "id": "72e786a6",
   "metadata": {},
   "outputs": [],
   "source": [
    "import pandas as pd"
   ]
  },
  {
   "cell_type": "code",
   "execution_count": 47,
   "id": "0685d810",
   "metadata": {},
   "outputs": [
    {
     "data": {
      "text/html": [
       "<div>\n",
       "<style scoped>\n",
       "    .dataframe tbody tr th:only-of-type {\n",
       "        vertical-align: middle;\n",
       "    }\n",
       "\n",
       "    .dataframe tbody tr th {\n",
       "        vertical-align: top;\n",
       "    }\n",
       "\n",
       "    .dataframe thead th {\n",
       "        text-align: right;\n",
       "    }\n",
       "</style>\n",
       "<table border=\"1\" class=\"dataframe\">\n",
       "  <thead>\n",
       "    <tr style=\"text-align: right;\">\n",
       "      <th></th>\n",
       "      <th>ride_id</th>\n",
       "      <th>rideable_type</th>\n",
       "      <th>started_at</th>\n",
       "      <th>ended_at</th>\n",
       "      <th>ride_length</th>\n",
       "      <th>day_of_week</th>\n",
       "      <th>start_station_name</th>\n",
       "      <th>start_station_id</th>\n",
       "      <th>end_station_name</th>\n",
       "      <th>end_station_id</th>\n",
       "      <th>start_lat</th>\n",
       "      <th>start_lng</th>\n",
       "      <th>end_lat</th>\n",
       "      <th>end_lng</th>\n",
       "      <th>member_casual</th>\n",
       "    </tr>\n",
       "  </thead>\n",
       "  <tbody>\n",
       "    <tr>\n",
       "      <th>0</th>\n",
       "      <td>BAA154388A869E64</td>\n",
       "      <td>classic_bike</td>\n",
       "      <td>35:14.4</td>\n",
       "      <td>48:24.4</td>\n",
       "      <td>0:13:10</td>\n",
       "      <td>6</td>\n",
       "      <td>State St &amp; Randolph St</td>\n",
       "      <td>TA1305000029</td>\n",
       "      <td>Wabash Ave &amp; 9th St</td>\n",
       "      <td>TA1309000010</td>\n",
       "      <td>41.884621</td>\n",
       "      <td>-87.627834</td>\n",
       "      <td>41.870769</td>\n",
       "      <td>-87.625734</td>\n",
       "      <td>member</td>\n",
       "    </tr>\n",
       "    <tr>\n",
       "      <th>1</th>\n",
       "      <td>8752245932EFF67A</td>\n",
       "      <td>electric_bike</td>\n",
       "      <td>33:14.0</td>\n",
       "      <td>55:23.9</td>\n",
       "      <td>0:22:10</td>\n",
       "      <td>6</td>\n",
       "      <td>Franklin St &amp; Monroe St</td>\n",
       "      <td>TA1309000007</td>\n",
       "      <td>Damen Ave &amp; Cortland St</td>\n",
       "      <td>13133</td>\n",
       "      <td>41.880317</td>\n",
       "      <td>-87.635185</td>\n",
       "      <td>41.915983</td>\n",
       "      <td>-87.677335</td>\n",
       "      <td>member</td>\n",
       "    </tr>\n",
       "    <tr>\n",
       "      <th>2</th>\n",
       "      <td>44DDF9F57A9A161F</td>\n",
       "      <td>classic_bike</td>\n",
       "      <td>44:06.2</td>\n",
       "      <td>57:52.1</td>\n",
       "      <td>0:13:46</td>\n",
       "      <td>6</td>\n",
       "      <td>Franklin St &amp; Monroe St</td>\n",
       "      <td>TA1309000007</td>\n",
       "      <td>Clark St &amp; Elm St</td>\n",
       "      <td>TA1307000039</td>\n",
       "      <td>41.880317</td>\n",
       "      <td>-87.635185</td>\n",
       "      <td>41.902973</td>\n",
       "      <td>-87.631280</td>\n",
       "      <td>member</td>\n",
       "    </tr>\n",
       "    <tr>\n",
       "      <th>3</th>\n",
       "      <td>44AAAF069B0C78C3</td>\n",
       "      <td>electric_bike</td>\n",
       "      <td>47:11.9</td>\n",
       "      <td>56:33.3</td>\n",
       "      <td>0:09:21</td>\n",
       "      <td>2</td>\n",
       "      <td>Clark St &amp; Elm St</td>\n",
       "      <td>TA1307000039</td>\n",
       "      <td>McClurg Ct &amp; Ohio St</td>\n",
       "      <td>TA1306000029</td>\n",
       "      <td>41.902973</td>\n",
       "      <td>-87.631280</td>\n",
       "      <td>41.892592</td>\n",
       "      <td>-87.617289</td>\n",
       "      <td>member</td>\n",
       "    </tr>\n",
       "    <tr>\n",
       "      <th>4</th>\n",
       "      <td>77138D500A6B7B4B</td>\n",
       "      <td>classic_bike</td>\n",
       "      <td>34:20.6</td>\n",
       "      <td>46:29.3</td>\n",
       "      <td>0:12:09</td>\n",
       "      <td>7</td>\n",
       "      <td>Western Ave &amp; Leland Ave</td>\n",
       "      <td>TA1307000140</td>\n",
       "      <td>Ashland Ave &amp; Belle Plaine Ave</td>\n",
       "      <td>13249</td>\n",
       "      <td>41.966400</td>\n",
       "      <td>-87.688704</td>\n",
       "      <td>41.956057</td>\n",
       "      <td>-87.668835</td>\n",
       "      <td>casual</td>\n",
       "    </tr>\n",
       "  </tbody>\n",
       "</table>\n",
       "</div>"
      ],
      "text/plain": [
       "            ride_id  rideable_type started_at ended_at ride_length  \\\n",
       "0  BAA154388A869E64   classic_bike    35:14.4  48:24.4     0:13:10   \n",
       "1  8752245932EFF67A  electric_bike    33:14.0  55:23.9     0:22:10   \n",
       "2  44DDF9F57A9A161F   classic_bike    44:06.2  57:52.1     0:13:46   \n",
       "3  44AAAF069B0C78C3  electric_bike    47:11.9  56:33.3     0:09:21   \n",
       "4  77138D500A6B7B4B   classic_bike    34:20.6  46:29.3     0:12:09   \n",
       "\n",
       "    day_of_week         start_station_name start_station_id  \\\n",
       "0              6    State St & Randolph St     TA1305000029   \n",
       "1              6   Franklin St & Monroe St     TA1309000007   \n",
       "2              6   Franklin St & Monroe St     TA1309000007   \n",
       "3              2         Clark St & Elm St     TA1307000039   \n",
       "4              7  Western Ave & Leland Ave     TA1307000140   \n",
       "\n",
       "                 end_station_name end_station_id  start_lat  start_lng  \\\n",
       "0             Wabash Ave & 9th St   TA1309000010  41.884621 -87.627834   \n",
       "1         Damen Ave & Cortland St          13133  41.880317 -87.635185   \n",
       "2               Clark St & Elm St   TA1307000039  41.880317 -87.635185   \n",
       "3            McClurg Ct & Ohio St   TA1306000029  41.902973 -87.631280   \n",
       "4  Ashland Ave & Belle Plaine Ave          13249  41.966400 -87.688704   \n",
       "\n",
       "     end_lat    end_lng member_casual  \n",
       "0  41.870769 -87.625734        member  \n",
       "1  41.915983 -87.677335        member  \n",
       "2  41.902973 -87.631280        member  \n",
       "3  41.892592 -87.617289        member  \n",
       "4  41.956057 -87.668835        casual  "
      ]
     },
     "execution_count": 47,
     "metadata": {},
     "output_type": "execute_result"
    }
   ],
   "source": [
    "df = pd.read_csv(r'C:\\\\Users\\\\ASHISH NEHRA\\\\Desktop\\\\trip_data\\\\202408-divvy-tripdata.csv')\n",
    "df.head()"
   ]
  },
  {
   "cell_type": "code",
   "execution_count": 48,
   "id": "01a3258c",
   "metadata": {},
   "outputs": [
    {
     "data": {
      "text/plain": [
       "(755639, 15)"
      ]
     },
     "execution_count": 48,
     "metadata": {},
     "output_type": "execute_result"
    }
   ],
   "source": [
    "df.shape"
   ]
  },
  {
   "cell_type": "code",
   "execution_count": 49,
   "id": "5569e1e9",
   "metadata": {},
   "outputs": [
    {
     "data": {
      "text/plain": [
       "615048"
      ]
     },
     "execution_count": 49,
     "metadata": {},
     "output_type": "execute_result"
    }
   ],
   "source": [
    "df[df.columns[7]].count()"
   ]
  },
  {
   "cell_type": "code",
   "execution_count": 50,
   "id": "e564bd53",
   "metadata": {},
   "outputs": [
    {
     "data": {
      "text/html": [
       "<div>\n",
       "<style scoped>\n",
       "    .dataframe tbody tr th:only-of-type {\n",
       "        vertical-align: middle;\n",
       "    }\n",
       "\n",
       "    .dataframe tbody tr th {\n",
       "        vertical-align: top;\n",
       "    }\n",
       "\n",
       "    .dataframe thead th {\n",
       "        text-align: right;\n",
       "    }\n",
       "</style>\n",
       "<table border=\"1\" class=\"dataframe\">\n",
       "  <thead>\n",
       "    <tr style=\"text-align: right;\">\n",
       "      <th></th>\n",
       "      <th>day_of_week</th>\n",
       "      <th>start_lat</th>\n",
       "      <th>start_lng</th>\n",
       "      <th>end_lat</th>\n",
       "      <th>end_lng</th>\n",
       "    </tr>\n",
       "  </thead>\n",
       "  <tbody>\n",
       "    <tr>\n",
       "      <th>count</th>\n",
       "      <td>755639.000000</td>\n",
       "      <td>755639.000000</td>\n",
       "      <td>755639.000000</td>\n",
       "      <td>754612.000000</td>\n",
       "      <td>754612.000000</td>\n",
       "    </tr>\n",
       "    <tr>\n",
       "      <th>mean</th>\n",
       "      <td>4.314666</td>\n",
       "      <td>41.904483</td>\n",
       "      <td>-87.646041</td>\n",
       "      <td>41.904796</td>\n",
       "      <td>-87.646316</td>\n",
       "    </tr>\n",
       "    <tr>\n",
       "      <th>std</th>\n",
       "      <td>2.053384</td>\n",
       "      <td>0.042206</td>\n",
       "      <td>0.027144</td>\n",
       "      <td>0.062876</td>\n",
       "      <td>0.037334</td>\n",
       "    </tr>\n",
       "    <tr>\n",
       "      <th>min</th>\n",
       "      <td>1.000000</td>\n",
       "      <td>41.648501</td>\n",
       "      <td>-87.900000</td>\n",
       "      <td>16.060000</td>\n",
       "      <td>-97.470000</td>\n",
       "    </tr>\n",
       "    <tr>\n",
       "      <th>25%</th>\n",
       "      <td>3.000000</td>\n",
       "      <td>41.882134</td>\n",
       "      <td>-87.660000</td>\n",
       "      <td>41.882409</td>\n",
       "      <td>-87.660000</td>\n",
       "    </tr>\n",
       "    <tr>\n",
       "      <th>50%</th>\n",
       "      <td>5.000000</td>\n",
       "      <td>41.899930</td>\n",
       "      <td>-87.641170</td>\n",
       "      <td>41.900000</td>\n",
       "      <td>-87.641763</td>\n",
       "    </tr>\n",
       "    <tr>\n",
       "      <th>75%</th>\n",
       "      <td>6.000000</td>\n",
       "      <td>41.930000</td>\n",
       "      <td>-87.628722</td>\n",
       "      <td>41.930000</td>\n",
       "      <td>-87.629318</td>\n",
       "    </tr>\n",
       "    <tr>\n",
       "      <th>max</th>\n",
       "      <td>7.000000</td>\n",
       "      <td>42.070000</td>\n",
       "      <td>-87.520000</td>\n",
       "      <td>46.160000</td>\n",
       "      <td>-79.020000</td>\n",
       "    </tr>\n",
       "  </tbody>\n",
       "</table>\n",
       "</div>"
      ],
      "text/plain": [
       "        day_of_week       start_lat      start_lng        end_lat  \\\n",
       "count  755639.000000  755639.000000  755639.000000  754612.000000   \n",
       "mean        4.314666      41.904483     -87.646041      41.904796   \n",
       "std         2.053384       0.042206       0.027144       0.062876   \n",
       "min         1.000000      41.648501     -87.900000      16.060000   \n",
       "25%         3.000000      41.882134     -87.660000      41.882409   \n",
       "50%         5.000000      41.899930     -87.641170      41.900000   \n",
       "75%         6.000000      41.930000     -87.628722      41.930000   \n",
       "max         7.000000      42.070000     -87.520000      46.160000   \n",
       "\n",
       "             end_lng  \n",
       "count  754612.000000  \n",
       "mean      -87.646316  \n",
       "std         0.037334  \n",
       "min       -97.470000  \n",
       "25%       -87.660000  \n",
       "50%       -87.641763  \n",
       "75%       -87.629318  \n",
       "max       -79.020000  "
      ]
     },
     "execution_count": 50,
     "metadata": {},
     "output_type": "execute_result"
    }
   ],
   "source": [
    "df.describe()"
   ]
  },
  {
   "cell_type": "code",
   "execution_count": 57,
   "id": "1703c28c",
   "metadata": {},
   "outputs": [
    {
     "data": {
      "text/plain": [
       "electric_bike    402650\n",
       "classic_bike     352989\n",
       "Name: rideable_type, dtype: int64"
      ]
     },
     "execution_count": 57,
     "metadata": {},
     "output_type": "execute_result"
    }
   ],
   "source": [
    "df['rideable_type'].value_counts()"
   ]
  },
  {
   "cell_type": "code",
   "execution_count": 58,
   "id": "09e33178",
   "metadata": {},
   "outputs": [
    {
     "data": {
      "text/plain": [
       "615048"
      ]
     },
     "execution_count": 58,
     "metadata": {},
     "output_type": "execute_result"
    }
   ],
   "source": [
    "df['start_station_id'].count()"
   ]
  },
  {
   "cell_type": "code",
   "execution_count": 59,
   "id": "e4b154b0",
   "metadata": {},
   "outputs": [
    {
     "data": {
      "text/plain": [
       "613414"
      ]
     },
     "execution_count": 59,
     "metadata": {},
     "output_type": "execute_result"
    }
   ],
   "source": [
    "df['end_station_id'].count()"
   ]
  },
  {
   "cell_type": "code",
   "execution_count": 60,
   "id": "15296d66",
   "metadata": {},
   "outputs": [
    {
     "data": {
      "text/plain": [
       "ride_id                    0\n",
       "rideable_type              0\n",
       "started_at                 0\n",
       "ended_at                   0\n",
       "ride_length                0\n",
       " day_of_week               0\n",
       "start_station_name    140591\n",
       "start_station_id      140591\n",
       "end_station_name      142225\n",
       "end_station_id        142225\n",
       "start_lat                  0\n",
       "start_lng                  0\n",
       "end_lat                 1027\n",
       "end_lng                 1027\n",
       "member_casual              0\n",
       "dtype: int64"
      ]
     },
     "execution_count": 60,
     "metadata": {},
     "output_type": "execute_result"
    }
   ],
   "source": [
    "df.isnull().sum()"
   ]
  },
  {
   "cell_type": "code",
   "execution_count": 61,
   "id": "eb593ff7",
   "metadata": {},
   "outputs": [
    {
     "data": {
      "text/plain": [
       "member    437359\n",
       "casual    318280\n",
       "Name: member_casual, dtype: int64"
      ]
     },
     "execution_count": 61,
     "metadata": {},
     "output_type": "execute_result"
    }
   ],
   "source": [
    "df['member_casual'].value_counts()"
   ]
  },
  {
   "cell_type": "code",
   "execution_count": 63,
   "id": "a31b97d3",
   "metadata": {},
   "outputs": [
    {
     "data": {
      "text/plain": [
       "7    145062\n",
       "6    125055\n",
       "5    113501\n",
       "1    102225\n",
       "4     99062\n",
       "3     87120\n",
       "2     83614\n",
       "Name:  day_of_week , dtype: int64"
      ]
     },
     "execution_count": 63,
     "metadata": {},
     "output_type": "execute_result"
    }
   ],
   "source": [
    "df[' day_of_week '].value_counts()"
   ]
  },
  {
   "cell_type": "code",
   "execution_count": 70,
   "id": "3b6ad3f3",
   "metadata": {},
   "outputs": [
    {
     "data": {
      "text/html": [
       "<div>\n",
       "<style scoped>\n",
       "    .dataframe tbody tr th:only-of-type {\n",
       "        vertical-align: middle;\n",
       "    }\n",
       "\n",
       "    .dataframe tbody tr th {\n",
       "        vertical-align: top;\n",
       "    }\n",
       "\n",
       "    .dataframe thead th {\n",
       "        text-align: right;\n",
       "    }\n",
       "</style>\n",
       "<table border=\"1\" class=\"dataframe\">\n",
       "  <thead>\n",
       "    <tr style=\"text-align: right;\">\n",
       "      <th>member_casual</th>\n",
       "      <th>casual</th>\n",
       "      <th>member</th>\n",
       "    </tr>\n",
       "    <tr>\n",
       "      <th>day_of_week</th>\n",
       "      <th></th>\n",
       "      <th></th>\n",
       "    </tr>\n",
       "  </thead>\n",
       "  <tbody>\n",
       "    <tr>\n",
       "      <th>1</th>\n",
       "      <td>52342</td>\n",
       "      <td>49883</td>\n",
       "    </tr>\n",
       "    <tr>\n",
       "      <th>2</th>\n",
       "      <td>29919</td>\n",
       "      <td>53695</td>\n",
       "    </tr>\n",
       "    <tr>\n",
       "      <th>3</th>\n",
       "      <td>29254</td>\n",
       "      <td>57866</td>\n",
       "    </tr>\n",
       "    <tr>\n",
       "      <th>4</th>\n",
       "      <td>34783</td>\n",
       "      <td>64279</td>\n",
       "    </tr>\n",
       "    <tr>\n",
       "      <th>5</th>\n",
       "      <td>41138</td>\n",
       "      <td>72363</td>\n",
       "    </tr>\n",
       "    <tr>\n",
       "      <th>6</th>\n",
       "      <td>53515</td>\n",
       "      <td>71540</td>\n",
       "    </tr>\n",
       "    <tr>\n",
       "      <th>7</th>\n",
       "      <td>77329</td>\n",
       "      <td>67733</td>\n",
       "    </tr>\n",
       "  </tbody>\n",
       "</table>\n",
       "</div>"
      ],
      "text/plain": [
       "member_casual  casual  member\n",
       " day_of_week                 \n",
       "1               52342   49883\n",
       "2               29919   53695\n",
       "3               29254   57866\n",
       "4               34783   64279\n",
       "5               41138   72363\n",
       "6               53515   71540\n",
       "7               77329   67733"
      ]
     },
     "execution_count": 70,
     "metadata": {},
     "output_type": "execute_result"
    }
   ],
   "source": [
    "df.groupby([' day_of_week ', 'member_casual']).size().unstack(fill_value=0)"
   ]
  },
  {
   "cell_type": "code",
   "execution_count": 72,
   "id": "9cdd80d3",
   "metadata": {},
   "outputs": [
    {
     "data": {
      "text/plain": [
       "755639"
      ]
     },
     "execution_count": 72,
     "metadata": {},
     "output_type": "execute_result"
    }
   ],
   "source": [
    "df['ride_length'].count()"
   ]
  },
  {
   "cell_type": "code",
   "execution_count": 81,
   "id": "a30c0ac5",
   "metadata": {},
   "outputs": [
    {
     "data": {
      "text/html": [
       "<div>\n",
       "<style scoped>\n",
       "    .dataframe tbody tr th:only-of-type {\n",
       "        vertical-align: middle;\n",
       "    }\n",
       "\n",
       "    .dataframe tbody tr th {\n",
       "        vertical-align: top;\n",
       "    }\n",
       "\n",
       "    .dataframe thead th {\n",
       "        text-align: right;\n",
       "    }\n",
       "</style>\n",
       "<table border=\"1\" class=\"dataframe\">\n",
       "  <thead>\n",
       "    <tr style=\"text-align: right;\">\n",
       "      <th>member_casual</th>\n",
       "      <th>casual</th>\n",
       "      <th>member</th>\n",
       "    </tr>\n",
       "    <tr>\n",
       "      <th>day_of_week</th>\n",
       "      <th></th>\n",
       "      <th></th>\n",
       "    </tr>\n",
       "  </thead>\n",
       "  <tbody>\n",
       "    <tr>\n",
       "      <th>1</th>\n",
       "      <td>24.442139</td>\n",
       "      <td>14.606859</td>\n",
       "    </tr>\n",
       "    <tr>\n",
       "      <th>2</th>\n",
       "      <td>20.545937</td>\n",
       "      <td>12.159421</td>\n",
       "    </tr>\n",
       "    <tr>\n",
       "      <th>3</th>\n",
       "      <td>19.254149</td>\n",
       "      <td>12.064618</td>\n",
       "    </tr>\n",
       "    <tr>\n",
       "      <th>4</th>\n",
       "      <td>20.846452</td>\n",
       "      <td>12.652992</td>\n",
       "    </tr>\n",
       "    <tr>\n",
       "      <th>5</th>\n",
       "      <td>19.204384</td>\n",
       "      <td>12.225188</td>\n",
       "    </tr>\n",
       "    <tr>\n",
       "      <th>6</th>\n",
       "      <td>21.423495</td>\n",
       "      <td>12.638081</td>\n",
       "    </tr>\n",
       "    <tr>\n",
       "      <th>7</th>\n",
       "      <td>24.288015</td>\n",
       "      <td>14.384351</td>\n",
       "    </tr>\n",
       "  </tbody>\n",
       "</table>\n",
       "</div>"
      ],
      "text/plain": [
       "member_casual     casual     member\n",
       " day_of_week                       \n",
       "1              24.442139  14.606859\n",
       "2              20.545937  12.159421\n",
       "3              19.254149  12.064618\n",
       "4              20.846452  12.652992\n",
       "5              19.204384  12.225188\n",
       "6              21.423495  12.638081\n",
       "7              24.288015  14.384351"
      ]
     },
     "execution_count": 81,
     "metadata": {},
     "output_type": "execute_result"
    }
   ],
   "source": [
    "df.groupby([' day_of_week ','member_casual'])['ride_length'].mean().unstack()"
   ]
  },
  {
   "cell_type": "code",
   "execution_count": 75,
   "id": "cbd48687",
   "metadata": {},
   "outputs": [
    {
     "data": {
      "text/plain": [
       "ride_id                        object\n",
       "rideable_type                  object\n",
       "started_at                     object\n",
       "ended_at                       object\n",
       "ride_length           timedelta64[ns]\n",
       " day_of_week                    int64\n",
       "start_station_name             object\n",
       "start_station_id               object\n",
       "end_station_name               object\n",
       "end_station_id                 object\n",
       "start_lat                     float64\n",
       "start_lng                     float64\n",
       "end_lat                       float64\n",
       "end_lng                       float64\n",
       "member_casual                  object\n",
       "dtype: object"
      ]
     },
     "execution_count": 75,
     "metadata": {},
     "output_type": "execute_result"
    }
   ],
   "source": [
    "df.dtypes"
   ]
  },
  {
   "cell_type": "code",
   "execution_count": 74,
   "id": "f67f243c",
   "metadata": {},
   "outputs": [],
   "source": [
    "df['ride_length'] = pd.to_timedelta(df['ride_length'])"
   ]
  },
  {
   "cell_type": "code",
   "execution_count": 77,
   "id": "adc18185",
   "metadata": {},
   "outputs": [],
   "source": [
    "df['ride_length'] = df['ride_length'] / pd.Timedelta(minutes=1)\n"
   ]
  },
  {
   "cell_type": "code",
   "execution_count": 78,
   "id": "8a4a204e",
   "metadata": {},
   "outputs": [
    {
     "data": {
      "text/plain": [
       "0         13.166667\n",
       "1         22.166667\n",
       "2         13.766667\n",
       "3          9.350000\n",
       "4         12.150000\n",
       "            ...    \n",
       "755634    17.400000\n",
       "755635    14.116667\n",
       "755636     2.300000\n",
       "755637    24.350000\n",
       "755638    18.250000\n",
       "Name: ride_length, Length: 755639, dtype: float64"
      ]
     },
     "execution_count": 78,
     "metadata": {},
     "output_type": "execute_result"
    }
   ],
   "source": [
    "df['ride_length']"
   ]
  },
  {
   "cell_type": "code",
   "execution_count": 87,
   "id": "e99a4055",
   "metadata": {},
   "outputs": [
    {
     "data": {
      "text/plain": [
       "755639"
      ]
     },
     "execution_count": 87,
     "metadata": {},
     "output_type": "execute_result"
    }
   ],
   "source": [
    "df['ride_id'].nunique()"
   ]
  },
  {
   "cell_type": "code",
   "execution_count": 95,
   "id": "3cd8b437",
   "metadata": {
    "scrolled": true
   },
   "outputs": [
    {
     "data": {
      "text/plain": [
       "start_station_name\n",
       "Streeter Dr & Grand Ave                   10941\n",
       "DuSable Lake Shore Dr & North Blvd         7210\n",
       "DuSable Lake Shore Dr & Monroe St          7005\n",
       "Michigan Ave & Oak St                      6513\n",
       "Theater on the Lake                        5203\n",
       "                                          ...  \n",
       "Public Rack - Monticello & Lawrence           1\n",
       "Public Rack - Ewing Ave & 106th St NW         1\n",
       "Public Rack - Morgan St & 95th St             1\n",
       "Public Rack - Mulligan & Northwest Hwy        1\n",
       "Panama Ave & Grace St                         1\n",
       "Length: 1377, dtype: int64"
      ]
     },
     "execution_count": 95,
     "metadata": {},
     "output_type": "execute_result"
    }
   ],
   "source": [
    "df.groupby(['start_station_name']).size().sort_values(ascending = False)"
   ]
  },
  {
   "cell_type": "code",
   "execution_count": null,
   "id": "5fb08275",
   "metadata": {},
   "outputs": [],
   "source": []
  }
 ],
 "metadata": {
  "kernelspec": {
   "display_name": "Python 3 (ipykernel)",
   "language": "python",
   "name": "python3"
  },
  "language_info": {
   "codemirror_mode": {
    "name": "ipython",
    "version": 3
   },
   "file_extension": ".py",
   "mimetype": "text/x-python",
   "name": "python",
   "nbconvert_exporter": "python",
   "pygments_lexer": "ipython3",
   "version": "3.9.7"
  }
 },
 "nbformat": 4,
 "nbformat_minor": 5
}
